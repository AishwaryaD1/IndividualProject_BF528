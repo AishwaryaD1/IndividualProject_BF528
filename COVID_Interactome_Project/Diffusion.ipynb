{
 "cells": [
  {
   "cell_type": "code",
   "execution_count": 1,
   "metadata": {},
   "outputs": [],
   "source": [
    "import networkx as nx\n",
    "import pandas as pd\n",
    "import numpy as np\n",
    "import csv"
   ]
  },
  {
   "cell_type": "code",
   "execution_count": 2,
   "metadata": {},
   "outputs": [
    {
     "data": {
      "text/html": [
       "<div>\n",
       "<style scoped>\n",
       "    .dataframe tbody tr th:only-of-type {\n",
       "        vertical-align: middle;\n",
       "    }\n",
       "\n",
       "    .dataframe tbody tr th {\n",
       "        vertical-align: top;\n",
       "    }\n",
       "\n",
       "    .dataframe thead th {\n",
       "        text-align: right;\n",
       "    }\n",
       "</style>\n",
       "<table border=\"1\" class=\"dataframe\">\n",
       "  <thead>\n",
       "    <tr style=\"text-align: right;\">\n",
       "      <th></th>\n",
       "      <th>0</th>\n",
       "      <th>1</th>\n",
       "    </tr>\n",
       "  </thead>\n",
       "  <tbody>\n",
       "    <tr>\n",
       "      <th>0</th>\n",
       "      <td>ENSG00000105483</td>\n",
       "      <td>ENSG00000171467</td>\n",
       "    </tr>\n",
       "    <tr>\n",
       "      <th>1</th>\n",
       "      <td>ENSG00000100030</td>\n",
       "      <td>ENSG00000261371</td>\n",
       "    </tr>\n",
       "    <tr>\n",
       "      <th>2</th>\n",
       "      <td>ENSG00000162385</td>\n",
       "      <td>ENSG00000169045</td>\n",
       "    </tr>\n",
       "    <tr>\n",
       "      <th>3</th>\n",
       "      <td>ENSG00000141458</td>\n",
       "      <td>ENSG00000184584</td>\n",
       "    </tr>\n",
       "    <tr>\n",
       "      <th>4</th>\n",
       "      <td>ENSG00000117724</td>\n",
       "      <td>ENSG00000197321</td>\n",
       "    </tr>\n",
       "    <tr>\n",
       "      <th>...</th>\n",
       "      <td>...</td>\n",
       "      <td>...</td>\n",
       "    </tr>\n",
       "    <tr>\n",
       "      <th>102367</th>\n",
       "      <td>ENSG00000138131</td>\n",
       "      <td>ENSG00000138190</td>\n",
       "    </tr>\n",
       "    <tr>\n",
       "      <th>102368</th>\n",
       "      <td>ENSG00000107581</td>\n",
       "      <td>ENSG00000135480</td>\n",
       "    </tr>\n",
       "    <tr>\n",
       "      <th>102369</th>\n",
       "      <td>ENSG00000094631</td>\n",
       "      <td>ENSG00000239713</td>\n",
       "    </tr>\n",
       "    <tr>\n",
       "      <th>102370</th>\n",
       "      <td>ENSG00000167900</td>\n",
       "      <td>ENSG00000196705</td>\n",
       "    </tr>\n",
       "    <tr>\n",
       "      <th>102371</th>\n",
       "      <td>ENSG00000124209</td>\n",
       "      <td>ENSG00000144566</td>\n",
       "    </tr>\n",
       "  </tbody>\n",
       "</table>\n",
       "<p>102372 rows × 2 columns</p>\n",
       "</div>"
      ],
      "text/plain": [
       "                      0                1\n",
       "0       ENSG00000105483  ENSG00000171467\n",
       "1       ENSG00000100030  ENSG00000261371\n",
       "2       ENSG00000162385  ENSG00000169045\n",
       "3       ENSG00000141458  ENSG00000184584\n",
       "4       ENSG00000117724  ENSG00000197321\n",
       "...                 ...              ...\n",
       "102367  ENSG00000138131  ENSG00000138190\n",
       "102368  ENSG00000107581  ENSG00000135480\n",
       "102369  ENSG00000094631  ENSG00000239713\n",
       "102370  ENSG00000167900  ENSG00000196705\n",
       "102371  ENSG00000124209  ENSG00000144566\n",
       "\n",
       "[102372 rows x 2 columns]"
      ]
     },
     "execution_count": 2,
     "metadata": {},
     "output_type": "execute_result"
    }
   ],
   "source": [
    "data = pd.read_csv(\"D:\\BU\\BE700\\project\\data\\HPA-Protein\\lung.tsv\", delimiter = '\\t', header = None, usecols = [0,1])\n",
    "data\n"
   ]
  },
  {
   "cell_type": "code",
   "execution_count": 3,
   "metadata": {},
   "outputs": [
    {
     "data": {
      "text/plain": [
       "False"
      ]
     },
     "execution_count": 3,
     "metadata": {},
     "output_type": "execute_result"
    }
   ],
   "source": [
    "G = nx.from_pandas_edgelist(data, source = 0, target = 1)\n",
    "nx.is_directed(G)"
   ]
  },
  {
   "cell_type": "code",
   "execution_count": 4,
   "metadata": {},
   "outputs": [
    {
     "data": {
      "text/plain": [
       "matrix([[0., 1., 0., ..., 0., 0., 0.],\n",
       "        [1., 0., 0., ..., 0., 0., 0.],\n",
       "        [0., 0., 1., ..., 0., 0., 0.],\n",
       "        ...,\n",
       "        [0., 0., 0., ..., 0., 0., 0.],\n",
       "        [0., 0., 0., ..., 0., 0., 0.],\n",
       "        [0., 0., 0., ..., 0., 0., 0.]])"
      ]
     },
     "execution_count": 4,
     "metadata": {},
     "output_type": "execute_result"
    }
   ],
   "source": [
    "adj_mat = nx.to_numpy_matrix(G)\n",
    "adj_mat"
   ]
  },
  {
   "cell_type": "code",
   "execution_count": 5,
   "metadata": {},
   "outputs": [
    {
     "data": {
      "text/html": [
       "<div>\n",
       "<style scoped>\n",
       "    .dataframe tbody tr th:only-of-type {\n",
       "        vertical-align: middle;\n",
       "    }\n",
       "\n",
       "    .dataframe tbody tr th {\n",
       "        vertical-align: top;\n",
       "    }\n",
       "\n",
       "    .dataframe thead th {\n",
       "        text-align: right;\n",
       "    }\n",
       "</style>\n",
       "<table border=\"1\" class=\"dataframe\">\n",
       "  <thead>\n",
       "    <tr style=\"text-align: right;\">\n",
       "      <th></th>\n",
       "      <th>Gene stable ID</th>\n",
       "    </tr>\n",
       "  </thead>\n",
       "  <tbody>\n",
       "    <tr>\n",
       "      <th>0</th>\n",
       "      <td>ENSG00000280759</td>\n",
       "    </tr>\n",
       "    <tr>\n",
       "      <th>1</th>\n",
       "      <td>ENSG00000228691</td>\n",
       "    </tr>\n",
       "    <tr>\n",
       "      <th>2</th>\n",
       "      <td>ENSG00000282003</td>\n",
       "    </tr>\n",
       "    <tr>\n",
       "      <th>3</th>\n",
       "      <td>ENSG00000224774</td>\n",
       "    </tr>\n",
       "    <tr>\n",
       "      <th>4</th>\n",
       "      <td>ENSG00000282230</td>\n",
       "    </tr>\n",
       "    <tr>\n",
       "      <th>...</th>\n",
       "      <td>...</td>\n",
       "    </tr>\n",
       "    <tr>\n",
       "      <th>327</th>\n",
       "      <td>ENSG00000198933</td>\n",
       "    </tr>\n",
       "    <tr>\n",
       "      <th>328</th>\n",
       "      <td>ENSG00000136485</td>\n",
       "    </tr>\n",
       "    <tr>\n",
       "      <th>329</th>\n",
       "      <td>ENSG00000154240</td>\n",
       "    </tr>\n",
       "    <tr>\n",
       "      <th>330</th>\n",
       "      <td>ENSG00000109062</td>\n",
       "    </tr>\n",
       "    <tr>\n",
       "      <th>331</th>\n",
       "      <td>ENSG00000171246</td>\n",
       "    </tr>\n",
       "  </tbody>\n",
       "</table>\n",
       "<p>332 rows × 1 columns</p>\n",
       "</div>"
      ],
      "text/plain": [
       "      Gene stable ID\n",
       "0    ENSG00000280759\n",
       "1    ENSG00000228691\n",
       "2    ENSG00000282003\n",
       "3    ENSG00000224774\n",
       "4    ENSG00000282230\n",
       "..               ...\n",
       "327  ENSG00000198933\n",
       "328  ENSG00000136485\n",
       "329  ENSG00000154240\n",
       "330  ENSG00000109062\n",
       "331  ENSG00000171246\n",
       "\n",
       "[332 rows x 1 columns]"
      ]
     },
     "execution_count": 5,
     "metadata": {},
     "output_type": "execute_result"
    }
   ],
   "source": [
    "krogan_proteins = pd.read_excel(\"D:\\BU\\BE700\\project\\data\\convert_unique.xlsx\", usecols= [0])\n",
    "krogan_proteins"
   ]
  },
  {
   "cell_type": "code",
   "execution_count": 73,
   "metadata": {},
   "outputs": [],
   "source": [
    "nodes = list(G.nodes())\n",
    "neighbors = {}\n",
    "for gene in krogan_proteins['Gene stable ID']:\n",
    "    if gene in nodes:\n",
    "        neighbors[gene] = []\n",
    "        for i in np.where(adj_mat[nodes.index(gene)] == 1)[1]:\n",
    "            neighbors[gene].append(nodes[i])\n",
    "            \n",
    "# print(neighbors)"
   ]
  },
  {
   "cell_type": "code",
   "execution_count": 68,
   "metadata": {},
   "outputs": [],
   "source": [
    "# with open('firstneighbors.csv', 'w') as csv_file:  \n",
    "#     writer = csv.writer(csv_file)\n",
    "#     for key, value in neighbors.items():\n",
    "#         writer.writerow([key, value])"
   ]
  },
  {
   "cell_type": "code",
   "execution_count": 7,
   "metadata": {},
   "outputs": [
    {
     "name": "stdout",
     "output_type": "stream",
     "text": [
      "finish\n"
     ]
    }
   ],
   "source": [
    "# create 4 matrix\n",
    "from numpy.linalg import inv\n",
    "dim = len(nodes)\n",
    "degree = np.sum(adj_mat, axis = 0)\n",
    "D = np.diag(degree.A1)\n",
    "L = D - adj_mat\n",
    "I = np.identity(dim)\n",
    "K = inv(I + 0.1*L)\n",
    "print('finish')"
   ]
  },
  {
   "cell_type": "code",
   "execution_count": 8,
   "metadata": {},
   "outputs": [],
   "source": [
    "y = np.zeros([dim,1])\n",
    "for id in neighbors.keys():\n",
    "    y[nodes.index(id)] = 1"
   ]
  },
  {
   "cell_type": "code",
   "execution_count": 9,
   "metadata": {},
   "outputs": [],
   "source": [
    "y_hat = np.dot(K, y)"
   ]
  },
  {
   "cell_type": "code",
   "execution_count": 17,
   "metadata": {},
   "outputs": [],
   "source": [
    "# create dataframe\n",
    "y_hat = y_hat.A1\n",
    "diffusion = {\n",
    "'id': nodes,\n",
    "'diffusion_value': y_hat   \n",
    "}\n",
    "\n",
    "df = pd.DataFrame(diffusion, columns = ['id', 'diffusion_value'])"
   ]
  },
  {
   "cell_type": "code",
   "execution_count": 19,
   "metadata": {},
   "outputs": [],
   "source": [
    "# write dataframe\n",
    "df.to_csv ('diffusion_score.csv', index = False, header=True)\n"
   ]
  },
  {
   "cell_type": "code",
   "execution_count": 22,
   "metadata": {},
   "outputs": [
    {
     "data": {
      "text/plain": [
       "335"
      ]
     },
     "execution_count": 22,
     "metadata": {},
     "output_type": "execute_result"
    }
   ],
   "source": [
    "sum(y_hat > 0.05)"
   ]
  },
  {
   "cell_type": "code",
   "execution_count": null,
   "metadata": {},
   "outputs": [],
   "source": [
    "# 2nd protein to krogan ppi dictionary\n",
    "sec_kro_ppi = {}\n",
    "for k,v in neighbors.items():\n",
    "    for x in v:\n",
    "        neighbors.setdefault(x,[]).append(k)\n",
    "        \n",
    "len(sec_kro_ppi.keys())\n",
    "\n",
    "# save to dictionary\n",
    "j = json.dumps(sec_kro_ppi)\n",
    "with open('sec_kro_ppi.json', 'w') as f:\n",
    "    f.write(j)\n",
    "    f.close()"
   ]
  },
  {
   "cell_type": "code",
   "execution_count": 6,
   "metadata": {},
   "outputs": [],
   "source": [
    "##########################################################\n",
    "# guilt by association\n",
    "##########################################################\n",
    "sec_kro_ppi = json.load(open('sec_kro_ppi.json'))\n",
    "\n",
    "linked_krogan = []\n",
    "\n",
    "for id in sec_kro_ppi.keys():\n",
    "    linked_krogan.append(len(sec_kro_ppi[id]))\n",
    "    \n",
    "ids = list(sec_kro_ppi.keys())\n"
   ]
  },
  {
   "cell_type": "code",
   "execution_count": 7,
   "metadata": {},
   "outputs": [
    {
     "data": {
      "text/plain": [
       "2962"
      ]
     },
     "execution_count": 7,
     "metadata": {},
     "output_type": "execute_result"
    }
   ],
   "source": [
    "len(linked_krogan)"
   ]
  },
  {
   "cell_type": "code",
   "execution_count": 8,
   "metadata": {},
   "outputs": [],
   "source": [
    "# create dataframe\n",
    "guilt_by_association = {\n",
    "'id': ids,\n",
    "'linked_krogan': linked_krogan   \n",
    "}\n",
    "\n",
    "df = pd.DataFrame(guilt_by_association, columns = ['id', 'linked_krogan'])\n",
    "df.to_csv ('guilt_by_association.csv', index = False, header=True)\n"
   ]
  },
  {
   "cell_type": "code",
   "execution_count": 48,
   "metadata": {},
   "outputs": [
    {
     "data": {
      "image/png": "[encoded data removed]",
      "text/plain": [
       "<Figure size 432x288 with 1 Axes>"
      ]
     },
     "metadata": {
      "needs_background": "light"
     },
     "output_type": "display_data"
    },
    {
     "name": "stdout",
     "output_type": "stream",
     "text": [
      "[1709.85814796   -1.76450973]\n"
     ]
    }
   ],
   "source": [
    "# plot distribution \n",
    "import matplotlib.pyplot as plt\n",
    "from scipy.optimize import curve_fit\n",
    "plt.figure()\n",
    "# histogram\n",
    "counts, bins, bars = plt.hist(linked_krogan, bins = 50, label = 'real distribution')\n",
    "# fit power law\n",
    "def func(x, k, a):\n",
    "    return k * x**a\n",
    "\n",
    "interval = bins[0:-1]\n",
    "popt, pcov = curve_fit(func, x, y)\n",
    "plt.plot(x, func(x, *popt), 'r-', label = 'Power law simulation')\n",
    "\n",
    "plt.ylabel('# of neighbor proteins')\n",
    "plt.xlabel('# of krogan protein linked')\n",
    "plt.title('Histogram of Guilt-by-association')\n",
    "\n",
    "plt.xlim((0, 25))\n",
    "plt.legend()\n",
    "\n",
    "plt.savefig('guilt_by_association.png')\n",
    "plt.show()\n",
    "\n",
    "print(popt)"
   ]
  },
  {
   "cell_type": "code",
   "execution_count": 16,
   "metadata": {},
   "outputs": [
    {
     "name": "stdout",
     "output_type": "stream",
     "text": [
      "1\n"
     ]
    }
   ],
   "source": [
    "thres = 4\n",
    "protein_num = 0\n",
    "for ii in linked_krogan:\n",
    "    if ii >= thres:\n",
    "        protein_num = protein_num + 1\n",
    "\n",
    "print(protein_num)\n",
    "\n"
   ]
  },
  {
   "cell_type": "code",
   "execution_count": 48,
   "metadata": {},
   "outputs": [],
   "source": [
    "# read diffusion and guilt-by-association, set threshold and export\n",
    "diffusion = pd.read_csv(\"diffusion_score.csv\")\n",
    "gbs = pd.read_csv(\"guilt_by_association.csv\")\n",
    "\n",
    "above005 = diffusion[diffusion['diffusion_value'] >= 0.05]\n",
    "above005.to_csv ('diffusion_threshold005.csv', index = False, header=True)\n",
    "above4 = gbs[gbs['linked_krogan'] >= 4]\n",
    "above4.to_csv('guilt_by_association_threshold4.csv', index = False, header = True)"
   ]
  }
 ],
 "metadata": {
  "kernelspec": {
   "display_name": "Python 3",
   "language": "python",
   "name": "python3"
  },
  "language_info": {
   "codemirror_mode": {
    "name": "ipython",
    "version": 3
   },
   "file_extension": ".py",
   "mimetype": "text/x-python",
   "name": "python",
   "nbconvert_exporter": "python",
   "pygments_lexer": "ipython3",
   "version": "3.7.6"
  },
  "varInspector": {
   "cols": {
    "lenName": 16,
    "lenType": 16,
    "lenVar": 40
   },
   "kernels_config": {
    "python": {
     "delete_cmd_postfix": "",
     "delete_cmd_prefix": "del ",
     "library": "var_list.py",
     "varRefreshCmd": "print(var_dic_list())"
    },
    "r": {
     "delete_cmd_postfix": ") ",
     "delete_cmd_prefix": "rm(",
     "library": "var_list.r",
     "varRefreshCmd": "cat(var_dic_list()) "
    }
   },
   "types_to_exclude": [
    "module",
    "function",
    "builtin_function_or_method",
    "instance",
    "_Feature"
   ],
   "window_display": false
  }
 },
 "nbformat": 4,
 "nbformat_minor": 4
}
